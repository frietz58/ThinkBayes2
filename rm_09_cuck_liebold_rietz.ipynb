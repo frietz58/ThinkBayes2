{
 "cells": [
  {
   "cell_type": "markdown",
   "metadata": {},
   "source": [
    "### Group Members:\n",
    "+ Pia Cuck\n",
    "+ Jeanine Liebold\n",
    "+ Finn Rietz\n",
    "\n",
    "To run the code, place in root directory of https://github.com/AllenDowney/ThinkBayes2, so that import statements work."
   ]
  },
  {
   "cell_type": "markdown",
   "metadata": {},
   "source": [
    "# Task 1\n",
    "The security guard at the Informatikum has read the Bayes book that a student forgot and now wants to estimate the number of international students on our campus. He wants to do this by asking 20 students randomly between 8:00 and 10:30, since he thinks that this should give him a good representative sample. He thinks of a sensible prior and a likelihood function and starts asking. After a successful morning, he has the following list written down: [0, 1, 0, 0, 0, 1, 1, 1, 0, 0, 0, 0, 0, 0, 0, 0, 0, 0, 0, 1] where 1=international and 0=not_international.\n",
    "What would his estimate be? Give a number and a 90% credible interval. \n"
   ]
  },
  {
   "cell_type": "code",
   "execution_count": 1,
   "metadata": {},
   "outputs": [],
   "source": [
    "from __future__ import print_function\n",
    "from scripts.dice import Dice\n",
    "import thinkplot\n",
    "from thinkbayes2 import Suite\n",
    "\n",
    "import matplotlib.pyplot as plt\n",
    "import matplotlib.image as mpimg\n",
    "import itertools\n",
    "import numpy as np"
   ]
  },
  {
   "cell_type": "code",
   "execution_count": 2,
   "metadata": {},
   "outputs": [],
   "source": [
    "class Ikum(Suite):\n",
    "    \"\"\"Pretty much taken from the book examples\"\"\"\n",
    "\n",
    "    def Likelihood(self, observation, hypo):\n",
    "        \"\"\"Computes the likelihood of the data under the hypothesis.\n",
    "\n",
    "        hypo: integer number hypothesis abouth number of international studends\n",
    "        observation: observed number of international students\n",
    "        \"\"\"\n",
    "        \n",
    "        # if we observed more students than we hypothized, prob of that hypothesis is 0\n",
    "        if hypo < observation:\n",
    "            return 0\n",
    "        else:\n",
    "            # only change I made for the liklihood.\n",
    "            # for the die example, the liklihood was always 1/hypo\n",
    "            # We changed this to observation/hypo\n",
    "            # Thus, if we observe 5 international students and our hypo is 5, prob is 1\n",
    "            return observation / hypo\n"
   ]
  },
  {
   "cell_type": "code",
   "execution_count": 3,
   "metadata": {},
   "outputs": [],
   "source": [
    "# calculates percentiles, taken form think bayes book\n",
    "def Percentile(pmf, percentage):\n",
    "    p = percentage / 100.0\n",
    "    total = 0\n",
    "    for val, prob in pmf.Items():\n",
    "        total += prob\n",
    "        if total >= p:\n",
    "            return val"
   ]
  },
  {
   "cell_type": "code",
   "execution_count": 4,
   "metadata": {},
   "outputs": [
    {
     "name": "stderr",
     "output_type": "stream",
     "text": [
      "No handles with labels found to put in legend.\n"
     ]
    },
    {
     "name": "stdout",
     "output_type": "stream",
     "text": [
      "Mean of posterior distribution: 10.243\n",
      "90% Confidence interval: (5, 18)\n"
     ]
    },
    {
     "data": {
      "image/png": "[encoded data removed]",
      "text/plain": [
       "<Figure size 432x288 with 1 Axes>"
      ]
     },
     "metadata": {
      "needs_background": "light"
     },
     "output_type": "display_data"
    },
    {
     "data": {
      "text/plain": [
       "<Figure size 576x432 with 0 Axes>"
      ]
     },
     "metadata": {},
     "output_type": "display_data"
    }
   ],
   "source": [
    "observation = [0, 1, 0, 0, 0, 1, 1, 1, 0, 0, 0, 0, 0, 0, 0, 0, 0, 0, 0, 1]\n",
    "\n",
    "# Generates hypothesis. \n",
    "# One hypothesis represents a possible number of international student \n",
    "hypos = range(0, len(observation))\n",
    "suite = Ikum(hypos)\n",
    "\n",
    "# Update function provided by the Bayes fromwork form the ThinkBays book.\n",
    "# Update the probabiliy dist behind each hypothesis according to the likelihood function\n",
    "suite.Update(sum(observation))\n",
    "\n",
    "# the mean is our final estimate\n",
    "rounded_mean = round(suite.Mean(), 3)\n",
    "print(\"Mean of posterior distribution: {}\".format(rounded_mean))\n",
    "\n",
    "# calculate the 90% confidence interval \n",
    "interval = Percentile(suite, 5), Percentile(suite, 95)\n",
    "print(\"90% Confidence interval: {}\".format(interval))\n",
    "\n",
    "# show figure\n",
    "thinkplot.PrePlot(1)\n",
    "thinkplot.Pmf(suite)\n",
    "thinkplot.show(\n",
    "    xlim=(0, 19), \n",
    "    title=\"Posterior mean: {}, 90% CI: {}\".format(rounded_mean, interval),\n",
    "    xlabel='Number of international students',\n",
    "    ylabel='Probability')"
   ]
  },
  {
   "cell_type": "markdown",
   "metadata": {},
   "source": [
    "# Task 2\n",
    "You are playing a heated game of Dungeons & Dragons and the dungeon master's (DM) main character always attacks you with two weapons (one die each). \n",
    "You would like to know what type of weapons they are and could guess, if you knew the individual damage rolls, but the DM only gives you the sum of the rolled values (each die represents one weapon). You know it has to be either a d6, d8, d10, or d12 (dX = X-sided die) for either weapon and the DM always rolls two at the same time and gives you the sum. Your hypothesis would be that it is a d6 and a d10. What is the likelihood for this hypothesis, if the last 5 throws gave you the summed numbers [10, 12, 15, 4, 7]"
   ]
  },
  {
   "cell_type": "code",
   "execution_count": 5,
   "metadata": {},
   "outputs": [],
   "source": [
    "class DualDice(Suite):\n",
    "    \"\"\"\n",
    "    Our implementation of the dual dice probabilities.\n",
    "    \n",
    "    We calculate liklihood updates as follows:\n",
    "    We observed a score. If the score is greater than the total score our dice could produce, return zero.\n",
    "    Otherwise, for each die in our dual die set, we calculate the probability of getting any side of the die.\n",
    "    We can do this, as the probability for each side is the same. The total prob for computing the observed score is \n",
    "    simply the conjoint probability, as the rolls are independent of one another.\n",
    "    \n",
    "    \"\"\"\n",
    "    def Likelihood(self, combined_score, dice_set):\n",
    "        if combined_score <= sum(dice_set):\n",
    "            combined_prob = 1\n",
    "            for dice in dice_set:\n",
    "                prob = 1 / dice\n",
    "                # for the first die, we multiply by one\n",
    "                # for the second die we multiply by the previos prob.\n",
    "                combined_prob *= prob\n",
    "            return combined_prob\n",
    "        else:\n",
    "            return 0"
   ]
  },
  {
   "cell_type": "code",
   "execution_count": 6,
   "metadata": {},
   "outputs": [],
   "source": [
    "def autolabel(rects, ax):\n",
    "    \"\"\"Attach a text label above each bar in *rects*, displaying its height.\"\"\"\n",
    "    for rect in rects:\n",
    "        height = rect.get_height()\n",
    "        ax.annotate('{}'.format(round(height, 2)),\n",
    "                    xy=(rect.get_x() + rect.get_width() / 2, height),\n",
    "                    xytext=(0, 3),  # 3 points vertical offset\n",
    "                    textcoords=\"offset points\",\n",
    "                    ha='center', va='bottom')"
   ]
  },
  {
   "cell_type": "code",
   "execution_count": 7,
   "metadata": {},
   "outputs": [
    {
     "name": "stdout",
     "output_type": "stream",
     "text": [
      "Best die tuple: (6, 10), probability: 0.23.\n"
     ]
    },
    {
     "data": {
      "image/png": "[encoded data removed]",
      "text/plain": [
       "<Figure size 432x288 with 1 Axes>"
      ]
     },
     "metadata": {
      "needs_background": "light"
     },
     "output_type": "display_data"
    }
   ],
   "source": [
    "# generate die combinations of possible die combinations\n",
    "die_list = [6, 8, 10, 12]\n",
    "die_combs = [p for p in itertools.product(die_list, repeat=2)]\n",
    "\n",
    "# create suite of hypothesis\n",
    "suite = DualDice(die_combs)\n",
    "\n",
    "# update the probability distribution over the hypothesis, according to the observations and the likelihood function\n",
    "for roll in [10, 12, 15, 4, 7]:\n",
    "    suite.Update(roll)\n",
    "\n",
    "# print('After more rolls')\n",
    "# suite.Print()\n",
    "print(\"Best die tuple: {}, probability: {}.\".format(max(suite, key=suite.d.get), round(max(list(suite.d.values())), 2)))\n",
    "\n",
    "# plot the result\n",
    "f, ax = plt.subplots(1, 1)\n",
    "x = np.arange(0, len(suite.d.keys()))\n",
    "rects = ax.bar(x, list(suite.d.values()))\n",
    "ax.set_xticks(x)\n",
    "ax.set_xticklabels(list(suite.d.keys()), rotation=45, ha=\"right\")\n",
    "\n",
    "autolabel(rects, ax)\n",
    "\n",
    "plt.ylim(0, ax.get_ylim()[1]+0.02)\n",
    "plt.ylabel(\"Probability\")\n",
    "plt.xlabel(\"Dual die set\")\n",
    "plt.show()"
   ]
  },
  {
   "cell_type": "code",
   "execution_count": null,
   "metadata": {},
   "outputs": [],
   "source": []
  }
 ],
 "metadata": {
  "kernelspec": {
   "display_name": "Python 3",
   "language": "python",
   "name": "python3"
  },
  "language_info": {
   "codemirror_mode": {
    "name": "ipython",
    "version": 3
   },
   "file_extension": ".py",
   "mimetype": "text/x-python",
   "name": "python",
   "nbconvert_exporter": "python",
   "pygments_lexer": "ipython3",
   "version": "3.6.1"
  }
 },
 "nbformat": 4,
 "nbformat_minor": 4
}
